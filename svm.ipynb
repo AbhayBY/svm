{
 "cells": [
  {
   "cell_type": "code",
   "execution_count": 1,
   "id": "41935cf0",
   "metadata": {},
   "outputs": [
    {
     "name": "stdout",
     "output_type": "stream",
     "text": [
      "Accuracy Of Linear Kernel:  0.9814814814814815\n",
      "Confusion Matrix: \n",
      " [[18  0  0  0  0  0]\n",
      " [ 0 23  0  0  0  0]\n",
      " [ 0  0  2  0  0  0]\n",
      " [ 0  0  1  1  0  0]\n",
      " [ 0  0  0  0  1  0]\n",
      " [ 0  0  0  0  0  8]]\n",
      "Classification report: \n",
      "               precision    recall  f1-score   support\n",
      "\n",
      "           1       1.00      1.00      1.00        18\n",
      "           2       1.00      1.00      1.00        23\n",
      "           3       0.67      1.00      0.80         2\n",
      "           5       1.00      0.50      0.67         2\n",
      "           6       1.00      1.00      1.00         1\n",
      "           7       1.00      1.00      1.00         8\n",
      "\n",
      "    accuracy                           0.98        54\n",
      "   macro avg       0.94      0.92      0.91        54\n",
      "weighted avg       0.99      0.98      0.98        54\n",
      "\n",
      "Accuracy Of Sigmoid Kernel:  0.7037037037037037\n",
      "Accuracy Of Ploy Kernel:  0.9629629629629629\n",
      "Accuracy Of RBF Kernel:  0.9259259259259259\n"
     ]
    },
    {
     "name": "stderr",
     "output_type": "stream",
     "text": [
      "C:\\Users\\abhay\\AppData\\Local\\Temp/ipykernel_9792/2315972515.py:9: FutureWarning: In a future version of pandas all arguments of DataFrame.drop except for the argument 'labels' will be keyword-only\n",
      "  x = data.drop('Type', 1)\n"
     ]
    }
   ],
   "source": [
    "from sklearn import svm\n",
    "import pandas as pd\n",
    "import numpy as np\n",
    "from sklearn.model_selection import train_test_split\n",
    "from sklearn.metrics import accuracy_score, confusion_matrix, classification_report\n",
    "\n",
    "data = pd.read_csv('C:/Users/abhay/Untitled Folder/glass.csv')\n",
    "y = data['Type']\n",
    "x = data.drop('Type', 1)\n",
    "\n",
    "xtrain, xtest, ytrain, ytest = train_test_split(x, y, test_size=0.25)\n",
    "\n",
    "linear = svm.SVC(kernel='linear')\n",
    "linear.fit(xtrain, ytrain)\n",
    "ypred1 = linear.predict(xtest)\n",
    "\n",
    "#print(linear.support_vectors_)\n",
    "#print(linear.n_support_)\n",
    "\n",
    "print(\"Accuracy Of Linear Kernel: \", accuracy_score(ytest, ypred1))\n",
    "print(\"Confusion Matrix: \\n\", confusion_matrix(ytest, ypred1))\n",
    "print(\"Classification report: \\n\", classification_report(ytest, ypred1))\n",
    "\n",
    "sigmoid = svm.SVC(kernel='sigmoid')\n",
    "poly = svm.SVC(kernel='poly')\n",
    "rbf = svm.SVC(kernel='rbf')\n",
    "\n",
    "sigmoid.fit(xtrain, ytrain)\n",
    "poly.fit(xtrain, ytrain)\n",
    "rbf.fit(xtrain, ytrain)\n",
    "\n",
    "ypred2 = sigmoid.predict(xtest)\n",
    "ypred3 = poly.predict(xtest)\n",
    "ypred4 = rbf.predict(xtest)\n",
    "\n",
    "print(\"Accuracy Of Sigmoid Kernel: \", accuracy_score(ytest, ypred2))\n",
    "print(\"Accuracy Of Ploy Kernel: \", accuracy_score(ytest, ypred3))\n",
    "print(\"Accuracy Of RBF Kernel: \", accuracy_score(ytest, ypred4))"
   ]
  },
  {
   "cell_type": "code",
   "execution_count": null,
   "id": "20ac38f3",
   "metadata": {},
   "outputs": [],
   "source": []
  }
 ],
 "metadata": {
  "kernelspec": {
   "display_name": "Python 3 (ipykernel)",
   "language": "python",
   "name": "python3"
  },
  "language_info": {
   "codemirror_mode": {
    "name": "ipython",
    "version": 3
   },
   "file_extension": ".py",
   "mimetype": "text/x-python",
   "name": "python",
   "nbconvert_exporter": "python",
   "pygments_lexer": "ipython3",
   "version": "3.9.7"
  }
 },
 "nbformat": 4,
 "nbformat_minor": 5
}
